{
 "cells": [
  {
   "cell_type": "markdown",
   "id": "da3b5a8a",
   "metadata": {},
   "source": [
    "Question 1:\n",
    "What data type is each of the following? \n",
    "5 \n",
    "5.0 \n",
    "5 > 1 \n",
    "'5'\n",
    "5 * 2 \n",
    "'5'  *  2 \n",
    "'5'  +  '2' \n",
    "5 / 2 \n",
    "5 % 2 \n",
    "{5,  2,  1} \n",
    "5 == 3 \n",
    "Pi  (the  number)"
   ]
  },
  {
   "cell_type": "markdown",
   "id": "515bdcb7",
   "metadata": {},
   "source": [
    "Answer\n",
    "1. int\n",
    "2. Double\n",
    "3. Boolean\n",
    "4. Character\n",
    "5. int\n",
    "6. int\n",
    "7. int\n",
    "8. Double\n",
    "9. int\n",
    "10. int array\n",
    "11. Boolean\n",
    "12. Double"
   ]
  },
  {
   "cell_type": "markdown",
   "id": "01a2141e",
   "metadata": {},
   "source": [
    "Question 2:\n",
    "Write (and evaluate) C# expressions that answer these questions: \n",
    "a. How many letters are there in 'Supercalifragilisticexpialidocious'? \n",
    "b. Does 'Supercalifragilisticexpialidocious' contain 'ice' as a substring?\n",
    "c. Which of the following words is the longest: Supercalifragilisticexpialidocious, Honorificabilitudinitatibus, or Bababadalgharaghtakamminarronnkonn?\n",
    "d. Which composer comes first in the dictionary: 'Berlioz', 'Borodin', 'Brian', 'Bartok', 'Bellini', 'Buxtehude', 'Bernstein'. Which one comes last?"
   ]
  },
  {
   "cell_type": "code",
   "execution_count": null,
   "id": "b721fa05",
   "metadata": {},
   "outputs": [],
   "source": [
    "using System;\n",
    "public class Question2\n",
    "{\n",
    " public static void Main(string[] args)\n",
    " {\n",
    " String word = \"Supercalifragilisticexpialidocious\";\n",
    " //a\n",
    " Console.WriteLine(word.Length);\n",
    " //b\n",
    " if(word.Contains(\"ice\")){\n",
    " Console.WriteLine(\" \\n Yes, It has a ice\\n\");\n",
    " }\n",
    " //c\n",
    " String word2 = \"Honorificabilitudinitatibus\";\n",
    " if(word.Length>word2.Length){\n",
    " Console.WriteLine(word+\" is the longer word. \\n\");\n",
    " }else{\n",
    " Console.WriteLine(word2+\" is the longer word.\\n\");\n",
    " }\n",
    " //d\n",
    " String[] words = {\"Berlioz\",\"Borodin\", \"Brian\", \"Bartok\", \"Bellini\",\"Bernstein\", \"Buxtehude\",};\n",
    " String firstWord = words[0];\n",
    " for (int i = 0; i <6; i++) {\n",
    " if(words[i].CompareTo(words[i+1])>0){\n",
    " firstWord = words[i+1];\n",
    " }\n",
    " }\n",
    " Console.WriteLine(\"The word \"+firstWord+\" comes first in the dictionary\");\n",
    " }\n",
    "}\n"
   ]
  },
  {
   "cell_type": "markdown",
   "id": "f9a7f788",
   "metadata": {},
   "source": [
    "Question 3:\n",
    "Implement function triangleArea(a,b,c) that takes as input the lengths of the 3 sides of a triangle and returns the area of the triangle. By Heron's formula, the area of a triangle with side lengths a, b, and c is s(s − a)(s − b)(s − c), where s = (a + b + c)/2. "
   ]
  },
  {
   "cell_type": "code",
   "execution_count": null,
   "id": "99bfa52a",
   "metadata": {},
   "outputs": [],
   "source": [
    "using System;\n",
    "public class Question3\n",
    "{\n",
    "public static void Main(string[] args)\n",
    "{\n",
    " double triangleArea(int a, int b, int c){\n",
    " double area;\n",
    " double s = (a+b+b)/2;\n",
    " double x = s*(s-a)*(s-b)*(s-c);\n",
    " area = Math.Sqrt(x);\n",
    " return area;\n",
    " }\n",
    " Console.WriteLine(triangleArea(2,2,2));\n",
    "}\n",
    "}"
   ]
  },
  {
   "cell_type": "markdown",
   "id": "1a22289f",
   "metadata": {},
   "source": [
    "Question4: \n",
    "Write a program in C# Sharp to separate odd and even integers in separate arrays. Go to the editor \n",
    "Test Data : \n",
    "Input the number of elements to be stored in the array :5 \n",
    "Input 5 elements in the array : \n",
    "element - 0 : 25 \n",
    "element - 1 : 47 \n",
    "element - 2 : 42 \n",
    "element - 3 : 56 \n",
    "element - 4 : 32 \n",
    "Expected Output: The Even elements are: \n",
    "42 56 32 \n",
    "The Odd elements are : \n",
    "25 47 "
   ]
  },
  {
   "cell_type": "code",
   "execution_count": null,
   "id": "e1c9aac7",
   "metadata": {},
   "outputs": [],
   "source": [
    "using System;\n",
    "public class Question4\n",
    "{\n",
    "public static void Main(string[] args)\n",
    "{\n",
    " Console.WriteLine(\"Input the number of elements to be stored in the array: \");\n",
    " int n = Convert.ToInt32(Console.ReadLine());\n",
    " Console.WriteLine(\"Input \"+n+\" Elements \");\n",
    " int[] arr = new int[n];\n",
    " for(int i = 0; i<arr.Length;i++){\n",
    " Console.WriteLine(\"element - \"+i+ \" : \");\n",
    " arr[i]=Convert.ToInt32(Console.ReadLine());\n",
    " }\n",
    " int[] odd={},even={};\n",
    " int e=0,o=0;\n",
    " for(int i = 0; i<arr.Length;i++){\n",
    " if(arr[i]%2==0){\n",
    " Array.Resize(ref even, even.Length + 1);\n",
    " even[even.Length-1]=arr[i];\n",
    " }else{\n",
    " Array.Resize(ref odd, odd.Length + 1);\n",
    " odd[odd.Length-1]=arr[i];\n",
    " }\n",
    " }\n",
    " Console.WriteLine(\"The even elements are:\");\n",
    " for(int i = 0; i<even.Length;i++){\n",
    " Console.WriteLine(even[i]);\n",
    " }\n",
    " Console.WriteLine(\"The odd elements are:\");\n",
    " for(int i = 0; i<odd.Length;i++){\n",
    " Console.WriteLine(odd[i]);\n",
    " }\n",
    "}\n",
    "}\n"
   ]
  },
  {
   "cell_type": "markdown",
   "id": "f6738538",
   "metadata": {},
   "source": [
    "Question 5:\n",
    "a. Write a function inside(x,y,x1,y1,x2,y2) that returns True or False depending on whether the point (x,y) lies in the rectangle with lower left corner (x1,y1) and upper right corner (x2,y2). "
   ]
  },
  {
   "cell_type": "code",
   "execution_count": null,
   "id": "df60d763",
   "metadata": {},
   "outputs": [],
   "source": [
    "using System;\n",
    "public class Question5\n",
    "{\n",
    "public static void Main(string[] args)\n",
    "{\n",
    " Boolean inside(int x,int y, int x1, int y1, int x2, int y2)\n",
    " {\n",
    " if(x >= x1 && x<=x2){\n",
    " if(y >= y1 && y<= y2){\n",
    " return true;\n",
    " }else{\n",
    " return false;\n",
    " }\n",
    " }else{return false;}\n",
    " }\n",
    " Console.WriteLine(inside(1,1,0,0,2,3));\n",
    " }\n",
    "}\n"
   ]
  },
  {
   "cell_type": "markdown",
   "id": "951b97db",
   "metadata": {},
   "source": [
    "Question 6:\n",
    "You can turn a word into pig-Latin using the following two rules (simplified):\n",
    "    • If the word starts with a consonant, move that letter to the end and append 'ay'. For example, 'happy' becomes 'appyhay' and 'pencil' becomes 'encilpay'. \n",
    "    • If the word starts with a vowel, simply append 'way' to the end of the word. For example, 'enter' becomes 'enterway' and 'other' becomes 'otherway' . For our purposes, there are 5 vowels: a, e, i, o, u (so we count y as a consonant). \n",
    "Write a function pig() that takes a word (i.e., a string) as input and returns its pig- Latin form. Your function should still work if the input word contains upper case characters. Your output should always be lower case however.  \n",
    ">>>  pig('happy') 'appyhay'\n",
    ">>>  pig('Enter') 'enterway' "
   ]
  },
  {
   "cell_type": "code",
   "execution_count": 3,
   "id": "6a89ae50",
   "metadata": {},
   "outputs": [
    {
     "name": "stdout",
     "output_type": "stream",
     "text": [
      "appyhay \n",
      "enterway \n"
     ]
    }
   ],
   "source": [
    "def pig(word):\n",
    "    x = word.lower()\n",
    "    words = x.split()\n",
    "    vowels = (\"a\",\"e\",\"i\",\"o\",\"u\")\n",
    "    if x[0] in vowels:\n",
    "        for word in words:\n",
    "            print(word + \"way\", end = \" \")\n",
    "    else:\n",
    "        for word in words:\n",
    "            print(word[1:] + word[0] + \"ay\", end = \" \")\n",
    "    print()\n",
    "    \n",
    "pig('happy')\n",
    "pig('enter')"
   ]
  },
  {
   "cell_type": "markdown",
   "id": "ba6a8b37",
   "metadata": {},
   "source": [
    "Question 7:\n",
    "File bloodtype1.txt records blood-types of patients (A, B, AB, O or OO) at a clinic. Write a function bldcount() that reads the file with name name and reports (i.e., prints) how many patients there are in each bloodtype"
   ]
  },
  {
   "cell_type": "code",
   "execution_count": 1,
   "id": "98a1e7e4",
   "metadata": {},
   "outputs": [
    {
     "name": "stdout",
     "output_type": "stream",
     "text": [
      "There are 15 patient patients of blood type A\n",
      "There is 1 patient of blood type B\n",
      "There are 13 patient patients of blood type AB\n",
      "There are 15 patient patients of blood type O\n",
      "There are no patient patients of blood type OO\n"
     ]
    }
   ],
   "source": [
    "def bldcount(txt):\n",
    "    with open(txt) as f:\n",
    "        lines = f.read()\n",
    "    bg = lines.split()\n",
    "    \n",
    "    a = 0\n",
    "    b = 0\n",
    "    ab = 0\n",
    "    o = 0\n",
    "    oo = 0\n",
    "\n",
    "    for blood in bg:\n",
    "        if blood == 'A' :\n",
    "            a = a+1            \n",
    "        elif blood == 'B':\n",
    "            b = b+1\n",
    "        elif blood == 'AB':\n",
    "            ab = ab+1\n",
    "        elif blood == 'O':\n",
    "            o = o+1\n",
    "        elif blood == 'OO':\n",
    "            oo = oo+1 \n",
    "    print(\"There \" + ('is ' if (a==1) else 'are ') + ('no' if (a==0) else str(a)) + (' patient' if (b==1) else ' patients') +\" patients of blood type A\")\n",
    "    print(\"There \" + ('is ' if (b==1) else 'are ' )+ ('no' if (b==0) else str(b)) + (' patient' if (b==1) else ' patients') +\" of blood type B\")\n",
    "    print(\"There \" + ('is ' if (ab==1) else 'are ' )+ ('no' if (ab==0) else str(ab)) + (' patient' if (b==1) else ' patients') +\" patients of blood type AB\")\n",
    "    print(\"There \" + ('is ' if (o==1) else 'are ' )+ ('no' if (o==0) else str(o)) + (' patient' if (b==1) else ' patients') +\" patients of blood type O\")\n",
    "    print(\"There \" + ('is ' if (oo==1) else 'are ' )+ ('no' if (oo==0) else str(oo)) + (' patient' if (b==1) else ' patients') +\" patients of blood type OO\")\n",
    "    \n",
    "bldcount('bloodtype1.txt')\n"
   ]
  },
  {
   "cell_type": "markdown",
   "id": "f50ea0c3",
   "metadata": {},
   "source": [
    "Question 8:\n",
    "Write a function curconv() that takes as input:  \n",
    "1. a currency represented using a string (e.g., 'JPY' for the Japanese Yen or 'EUR' for the Euro) \n",
    "2. an amount  and then converts and returns the amount in US dollars."
   ]
  },
  {
   "cell_type": "code",
   "execution_count": 6,
   "id": "0f3920dc",
   "metadata": {
    "scrolled": true
   },
   "outputs": [
    {
     "name": "stdout",
     "output_type": "stream",
     "text": [
      "122.96544\n",
      "1.241401\n"
     ]
    }
   ],
   "source": [
    "currency = \"\"\n",
    "res = int\n",
    "def curconv(cur,amt):\n",
    "    if cur == \"AUD\":\n",
    "        res = 1.0345157*amt\n",
    "        currency = \"Australian Dollar\"\n",
    "    elif cur == \"CHF\":\n",
    "        res =  1.0237414*amt\n",
    "        currency = \"Swiss Franc\"\n",
    "    elif cur == \"CNY\":\n",
    "        res =  0.1550176*amt\n",
    "        currency = \"Chinese Yuan\"\n",
    "    elif cur == \"DKK\":\n",
    "        res =  0.1651442*amt\n",
    "        currency = \"Danish Krone\"\n",
    "    elif cur == \"EUR\":\n",
    "        res =  1.2296544*amt\n",
    "        currency = \"Euro\"\n",
    "    elif cur == \"GBP\":\n",
    "        res =  1.5550989*amt\n",
    "        currency = \"British Pound\"\n",
    "    elif cur == \"HKD\":\n",
    "        res =  0.1270207*amt\n",
    "        currency = \"Hong Kong Dollar\"\n",
    "    elif cur == \"INR\":\n",
    "        res =  0.0177643*amt\n",
    "        currency = \"Indian Rupee\"\n",
    "    elif cur == \"JPY\":\n",
    "        res =  0.01241401*amt\n",
    "        currency = \"Japanese Yen\"\n",
    "    elif cur == \"MXN\":\n",
    "        res =  0.0751848*amt\n",
    "        currency = \"Mexican Peso\"\n",
    "    elif cur == \"MYR\":\n",
    "        res =  0.3145411*amt\n",
    "        currency = \"Malaysian Ringgit\"\n",
    "    elif cur == \"NOK\":\n",
    "        res =  0.1677063*amt\n",
    "        currency = \"Norwegian Krone\"\n",
    "    elif cur == \"NZD\":\n",
    "        res =  0.8003591*amt\n",
    "        currency = \"New Zealand Dollar\"\n",
    "    elif cur == \"PHP\":\n",
    "        res =  0.0233234*amt\n",
    "        currency = \"Philippine Peso\"\n",
    "    elif cur == \"SEK\":\n",
    "        res =  0.148269*amt\n",
    "        currency = \"Swedish Krona\"\n",
    "    elif cur == \"SGD\":\n",
    "        res =  0.788871*amt\n",
    "        currency = \"Singapore Dollar\"\n",
    "    elif cur == \"THB\":\n",
    "        res =  0.0313789*amt\n",
    "        currency = \"Thai Baht\"\n",
    "        \n",
    "    print (str(res))\n",
    "\n",
    "curconv(\"EUR\" , 100)\n",
    "curconv(\"JPY\" , 100)"
   ]
  },
  {
   "cell_type": "code",
   "execution_count": 3,
   "id": "4546896b",
   "metadata": {},
   "outputs": [
    {
     "ename": "IndentationError",
     "evalue": "expected an indented block (1478620462.py, line 3)",
     "output_type": "error",
     "traceback": [
      "\u001b[1;36m  Input \u001b[1;32mIn [3]\u001b[1;36m\u001b[0m\n\u001b[1;33m    lines = input.readlines()\u001b[0m\n\u001b[1;37m    ^\u001b[0m\n\u001b[1;31mIndentationError\u001b[0m\u001b[1;31m:\u001b[0m expected an indented block\n"
     ]
    }
   ],
   "source": [
    "def curconv(currency, amount):\n",
    " with open(\"currencies.txt\",\"r\") as input:\n",
    " lines = input.readlines()\n",
    " for line in lines:\n",
    " if line.startswith(currency):\n",
    " field = line.strip().split(\" \")\n",
    " return amount * float(field[1])\n",
    " \n",
    "print(curconv('EUR', 100))"
   ]
  },
  {
   "cell_type": "markdown",
   "id": "45bd2bbc",
   "metadata": {},
   "source": [
    "Qestion 9:\n",
    "Each of the following will cause an exception (an error). Identify what type of exception each will cause.\n",
    "a.Trying to add incompatible variables, as in adding 6 + ‘a’\n",
    "\n",
    "b.Referring to the 12th item of a list that has only 10 items\n",
    "\n",
    "c.Using a value that is out of range for a function’s input, such as calling math.sqrt(-1.0)\n",
    "\n",
    "d.Using an undeclared variable, such as print(x) when x has not been defined\n",
    "\n",
    "e.Trying to open a file that does not exist, such as mistyping the file name or looking in the wrong directory."
   ]
  },
  {
   "cell_type": "markdown",
   "id": "22e2af43",
   "metadata": {},
   "source": [
    "ANSWERS\n",
    "a. TypeError: unsupported operand type(s) for +: 'int' and 'str'\n",
    "explantion= string cannot be concatenned with interger(number)\n",
    "\n",
    "b. IndexError: list index out of range list index out of range\n",
    "explanation= we cannot call element which is out of range of list\n",
    "\n",
    "c. ValueError: math domain error\n",
    "explanation= square root is possible for positive numbers only\n",
    "\n",
    "d. NameError: name 'X' is not defined\n",
    "explanation= we cannot print anything until and unless it is defined\n",
    "\n",
    "e. FileNotFoundError: [Errno 2] No such file or directory: 'test.txt'\n",
    "explanation= there is no file by the name of 'test.txt'"
   ]
  },
  {
   "cell_type": "markdown",
   "id": "1e7bdf2c",
   "metadata": {},
   "source": [
    "Question 10:\n",
    "Encryption is the process of hiding the meaning of a text by substituting letters in the message with other letters, according to some system. If the process is successful, no one but the intended recipient can understand the encrypted message. Cryptanalysis refers to attempts to undo the encryption, even if some details of the encryption are unknown (for example, if an encrypted message has been intercepted). The first step of cryptanalysis is often to build up a table of letter frequencies in the encrypted text. Assume that the string letters is already defined as\n",
    "'abcdefghijklmnopqrstuvwxyz'. Write a function called frequencies() that takes a string as its only parameter, and returns a list of integers, showing the number of times each character appears in the text. Your function may ignore any characters that are not in letters. "
   ]
  },
  {
   "cell_type": "code",
   "execution_count": 7,
   "id": "3c1d107c",
   "metadata": {},
   "outputs": [
    {
     "name": "stdout",
     "output_type": "stream",
     "text": [
      "[1, 1, 1, 3, 5, 1, 1, 2, 1, 0, 1, 0, 1, 2, 4, 0, 1, 2, 0, 2, 1, 0, 1, 1, 0, 0]\n",
      "[1, 0, 0, 0, 1, 0, 0, 0, 0, 0, 0, 1, 0, 0, 0, 2, 0, 0, 0, 0, 0, 0, 0, 0, 0, 0]\n"
     ]
    }
   ],
   "source": [
    "def frequencies(word):\n",
    "  alphabets = \"abcdefghijklmnopqrstuvwqyz\"\n",
    "  counts = []\n",
    "  for letter in alphabets:\n",
    "    count = word.count(letter)\n",
    "    counts.append(count)\n",
    "  print(counts)   \n",
    "    \n",
    "frequencies(\"The quick red fox got bored and went home.\")\n",
    "frequencies(\"apple\")"
   ]
  },
  {
   "cell_type": "code",
   "execution_count": null,
   "id": "aae2e6c6",
   "metadata": {},
   "outputs": [],
   "source": []
  }
 ],
 "metadata": {
  "kernelspec": {
   "display_name": "Python 3 (ipykernel)",
   "language": "python",
   "name": "python3"
  },
  "language_info": {
   "codemirror_mode": {
    "name": "ipython",
    "version": 3
   },
   "file_extension": ".py",
   "mimetype": "text/x-python",
   "name": "python",
   "nbconvert_exporter": "python",
   "pygments_lexer": "ipython3",
   "version": "3.9.12"
  }
 },
 "nbformat": 4,
 "nbformat_minor": 5
}
